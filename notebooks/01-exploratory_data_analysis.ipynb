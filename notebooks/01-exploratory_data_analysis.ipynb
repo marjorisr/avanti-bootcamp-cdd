{
 "cells": [
  {
   "cell_type": "markdown",
   "metadata": {},
   "source": [
    "# Análise exploratória de dados"
   ]
  },
  {
   "cell_type": "code",
   "execution_count": 16,
   "metadata": {
    "tags": []
   },
   "outputs": [],
   "source": [
    "import pandas as pd\n",
    "import seaborn as sns"
   ]
  },
  {
   "cell_type": "markdown",
   "metadata": {
    "tags": []
   },
   "source": [
    "## 1. Coleta de dados"
   ]
  },
  {
   "cell_type": "code",
   "execution_count": 17,
   "metadata": {
    "tags": []
   },
   "outputs": [],
   "source": [
    "df = sns.load_dataset(\"tips\")\n",
    "df.to_csv(\"../data/raw/data.csv\",index=False)"
   ]
  },
  {
   "cell_type": "markdown",
   "metadata": {},
   "source": [
    "## 2. Dicionário de dados"
   ]
  },
  {
   "cell_type": "code",
   "execution_count": 18,
   "metadata": {},
   "outputs": [
    {
     "data": {
      "text/html": [
       "<div>\n",
       "<style scoped>\n",
       "    .dataframe tbody tr th:only-of-type {\n",
       "        vertical-align: middle;\n",
       "    }\n",
       "\n",
       "    .dataframe tbody tr th {\n",
       "        vertical-align: top;\n",
       "    }\n",
       "\n",
       "    .dataframe thead th {\n",
       "        text-align: right;\n",
       "    }\n",
       "</style>\n",
       "<table border=\"1\" class=\"dataframe\">\n",
       "  <thead>\n",
       "    <tr style=\"text-align: right;\">\n",
       "      <th></th>\n",
       "      <th>variavel</th>\n",
       "      <th>descricao</th>\n",
       "      <th>tipo</th>\n",
       "      <th>subtipo</th>\n",
       "    </tr>\n",
       "  </thead>\n",
       "  <tbody>\n",
       "    <tr>\n",
       "      <th>0</th>\n",
       "      <td>sex</td>\n",
       "      <td>Sexo dos indivíduos</td>\n",
       "      <td>qualitativa</td>\n",
       "      <td>nominal</td>\n",
       "    </tr>\n",
       "    <tr>\n",
       "      <th>1</th>\n",
       "      <td>smoker</td>\n",
       "      <td>Pessoa fumante ou nao</td>\n",
       "      <td>qualitativa</td>\n",
       "      <td>nominal</td>\n",
       "    </tr>\n",
       "    <tr>\n",
       "      <th>2</th>\n",
       "      <td>day</td>\n",
       "      <td>Dia da semana</td>\n",
       "      <td>quantitativa</td>\n",
       "      <td>ordinal</td>\n",
       "    </tr>\n",
       "    <tr>\n",
       "      <th>3</th>\n",
       "      <td>time</td>\n",
       "      <td>Tempo</td>\n",
       "      <td>quantitativa</td>\n",
       "      <td>continua</td>\n",
       "    </tr>\n",
       "    <tr>\n",
       "      <th>4</th>\n",
       "      <td>size</td>\n",
       "      <td>Qtd de pessoas juntas</td>\n",
       "      <td>quantitativa</td>\n",
       "      <td>discreta</td>\n",
       "    </tr>\n",
       "    <tr>\n",
       "      <th>5</th>\n",
       "      <td>total_bill</td>\n",
       "      <td>Total da conta</td>\n",
       "      <td>quantitativa</td>\n",
       "      <td>continua</td>\n",
       "    </tr>\n",
       "    <tr>\n",
       "      <th>6</th>\n",
       "      <td>tip</td>\n",
       "      <td>Gorjeta</td>\n",
       "      <td>quantitativa</td>\n",
       "      <td>discreta</td>\n",
       "    </tr>\n",
       "  </tbody>\n",
       "</table>\n",
       "</div>"
      ],
      "text/plain": [
       "     variavel              descricao          tipo   subtipo\n",
       "0         sex    Sexo dos indivíduos   qualitativa   nominal\n",
       "1      smoker  Pessoa fumante ou nao   qualitativa   nominal\n",
       "2         day          Dia da semana  quantitativa   ordinal\n",
       "3        time                  Tempo  quantitativa  continua\n",
       "4        size  Qtd de pessoas juntas  quantitativa  discreta\n",
       "5  total_bill         Total da conta  quantitativa  continua\n",
       "6         tip                Gorjeta  quantitativa  discreta"
      ]
     },
     "execution_count": 18,
     "metadata": {},
     "output_type": "execute_result"
    }
   ],
   "source": [
    "dicionario = pd.DataFrame([\n",
    "    {\n",
    "        \"variavel\": \"sex\",\n",
    "        \"descricao\": \"Sexo dos indivíduos\",\n",
    "        \"tipo\":\"qualitativa\",\n",
    "        \"subtipo\":\"nominal\"\n",
    "    },{\n",
    "        \"variavel\": \"smoker\",\n",
    "        \"descricao\": \"Pessoa fumante ou nao\",\n",
    "        \"tipo\":\"qualitativa\",\n",
    "        \"subtipo\":\"nominal\"\n",
    "    },{\n",
    "        \"variavel\": \"day\",\n",
    "        \"descricao\": \"Dia da semana\",\n",
    "        \"tipo\":\"quantitativa\",\n",
    "        \"subtipo\":\"ordinal\"\n",
    "    },{\n",
    "        \"variavel\": \"time\",\n",
    "        \"descricao\": \"Tempo\",\n",
    "        \"tipo\":\"quantitativa\",\n",
    "        \"subtipo\":\"continua\"\n",
    "    },{\n",
    "        \"variavel\": \"size\",\n",
    "        \"descricao\": \"Qtd de pessoas juntas\",\n",
    "        \"tipo\":\"quantitativa\",\n",
    "        \"subtipo\":\"discreta\"\n",
    "    },{\n",
    "        \"variavel\": \"total_bill\",\n",
    "        \"descricao\": \"Total da conta\",\n",
    "        \"tipo\":\"quantitativa\",\n",
    "        \"subtipo\":\"continua\"\n",
    "    },{\n",
    "        \"variavel\": \"tip\",\n",
    "        \"descricao\": \"Gorjeta\",\n",
    "        \"tipo\":\"quantitativa\",\n",
    "        \"subtipo\":\"discreta\"\n",
    "    }\n",
    "])\n",
    "\n",
    "dicionario"
   ]
  },
  {
   "cell_type": "code",
   "execution_count": 19,
   "metadata": {
    "tags": []
   },
   "outputs": [],
   "source": [
    "dicionario.to_csv(\"../data/external/dictionary.csv\", index=False)"
   ]
  },
  {
   "cell_type": "markdown",
   "metadata": {},
   "source": [
    "### 3. Insights"
   ]
  },
  {
   "cell_type": "markdown",
   "metadata": {},
   "source": [
    "### Qual a média de clientes por dia?"
   ]
  },
  {
   "cell_type": "code",
   "execution_count": 20,
   "metadata": {
    "tags": []
   },
   "outputs": [
    {
     "name": "stdout",
     "output_type": "stream",
     "text": [
      "Média de clientes por dia: 61.0\n"
     ]
    }
   ],
   "source": [
    "media_clientes_por_dia = df.groupby('day').size().mean()\n",
    "print(\"Média de clientes por dia:\", media_clientes_por_dia)"
   ]
  },
  {
   "cell_type": "markdown",
   "metadata": {
    "tags": []
   },
   "source": [
    "### Qual a media de número de pessoas que jantam juntas?"
   ]
  },
  {
   "cell_type": "code",
   "execution_count": 21,
   "metadata": {
    "tags": []
   },
   "outputs": [
    {
     "name": "stdout",
     "output_type": "stream",
     "text": [
      "Média de pessoas que jantam juntas: 2.569672131147541\n"
     ]
    }
   ],
   "source": [
    "media_pessoas_jantam_juntas = df['size'].mean()\n",
    "print(\"Média de pessoas que jantam juntas:\", media_pessoas_jantam_juntas)"
   ]
  },
  {
   "cell_type": "markdown",
   "metadata": {},
   "source": [
    "### Qual a média de fumantes do local?\n"
   ]
  },
  {
   "cell_type": "code",
   "execution_count": 22,
   "metadata": {
    "tags": []
   },
   "outputs": [
    {
     "name": "stdout",
     "output_type": "stream",
     "text": [
      "Média de fumantes do local: 0.38114754098360654\n"
     ]
    }
   ],
   "source": [
    "media_fumantes = df['smoker'].value_counts(normalize=True)['Yes']\n",
    "print(\"Média de fumantes do local:\", media_fumantes)"
   ]
  },
  {
   "cell_type": "markdown",
   "metadata": {
    "tags": []
   },
   "source": [
    "### Quantos homens são fumantes? E quantos não são?"
   ]
  },
  {
   "cell_type": "code",
   "execution_count": 23,
   "metadata": {
    "tags": []
   },
   "outputs": [
    {
     "name": "stdout",
     "output_type": "stream",
     "text": [
      "Número de homens fumantes: 60\n",
      "Número de homens não fumantes: 97\n"
     ]
    }
   ],
   "source": [
    "homens_fumantes = df[(df['sex'] == 'Male') & (df['smoker'] == 'Yes')]['sex'].count()\n",
    "homens_nao_fumantes = df[(df['sex'] == 'Male') & (df['smoker'] == 'No')]['sex'].count()\n",
    "print(\"Número de homens fumantes:\", homens_fumantes)\n",
    "print(\"Número de homens não fumantes:\", homens_nao_fumantes)"
   ]
  },
  {
   "cell_type": "markdown",
   "metadata": {},
   "source": [
    "### Quantas mulheres são fumantes? E quantas não são?"
   ]
  },
  {
   "cell_type": "code",
   "execution_count": 24,
   "metadata": {
    "tags": []
   },
   "outputs": [
    {
     "name": "stdout",
     "output_type": "stream",
     "text": [
      "Número de mulheres fumantes: 33\n",
      "Número de mulheres não fumantes: 54\n"
     ]
    }
   ],
   "source": [
    "mulheres_fumantes = df[(df['sex'] == 'Female') & (df['smoker'] == 'Yes')]['sex'].count()\n",
    "mulheres_nao_fumantes = df[(df['sex'] == 'Female') & (df['smoker'] == 'No')]['sex'].count()\n",
    "print(\"Número de mulheres fumantes:\", mulheres_fumantes)\n",
    "print(\"Número de mulheres não fumantes:\", mulheres_nao_fumantes)"
   ]
  },
  {
   "cell_type": "markdown",
   "metadata": {},
   "source": [
    "### Mulheres ou homens dão gorjetas maiores?"
   ]
  },
  {
   "cell_type": "code",
   "execution_count": 25,
   "metadata": {
    "tags": []
   },
   "outputs": [
    {
     "name": "stdout",
     "output_type": "stream",
     "text": [
      "Homens dão gorjetas maiores.\n"
     ]
    }
   ],
   "source": [
    "media_gorjetas_mulheres = df[df['sex'] == 'Female']['tip'].mean()\n",
    "media_gorjetas_homens = df[df['sex'] == 'Male']['tip'].mean()\n",
    "if media_gorjetas_mulheres > media_gorjetas_homens:\n",
    "    print(\"Mulheres dão gorjetas maiores.\")\n",
    "elif media_gorjetas_mulheres < media_gorjetas_homens:\n",
    "    print(\"Homens dão gorjetas maiores.\")\n",
    "else:\n",
    "    print(\"Mulheres e homens dão gorjetas do mesmo tamanho.\")"
   ]
  },
  {
   "cell_type": "markdown",
   "metadata": {},
   "source": [
    "### Qual o dia da semana de maior e menor movimento?"
   ]
  },
  {
   "cell_type": "code",
   "execution_count": 26,
   "metadata": {
    "tags": []
   },
   "outputs": [
    {
     "name": "stdout",
     "output_type": "stream",
     "text": [
      "Dia da semana de maior movimento: Sat\n",
      "Dia da semana de menor movimento: Fri\n"
     ]
    }
   ],
   "source": [
    "dia_maior_movimento = df['day'].value_counts().idxmax()\n",
    "print(\"Dia da semana de maior movimento:\", dia_maior_movimento)\n",
    "dia_menor_movimento = df['day'].value_counts().idxmin()\n",
    "print(\"Dia da semana de menor movimento:\", dia_menor_movimento)\n"
   ]
  },
  {
   "cell_type": "markdown",
   "metadata": {},
   "source": [
    "### Quem gasta mais, homens ou mulheres?"
   ]
  },
  {
   "cell_type": "code",
   "execution_count": 27,
   "metadata": {
    "tags": []
   },
   "outputs": [
    {
     "name": "stdout",
     "output_type": "stream",
     "text": [
      "Homens gastam mais.\n"
     ]
    }
   ],
   "source": [
    "media_gastos_homem = df[df['sex'] == 'Male']['total_bill'].mean()\n",
    "media_gastos_mulher = df[df['sex'] == 'Female']['total_bill'].mean()\n",
    "if media_gastos_homem > media_gastos_mulher:\n",
    "    print(\"Homens gastam mais.\")\n",
    "elif media_gastos_homem < media_gastos_mulher:\n",
    "    print(\"Mulheres gastam mais.\")\n",
    "else:\n",
    "    print(\"Homens e mulheres gastam a mesma quantia.\")"
   ]
  },
  {
   "cell_type": "markdown",
   "metadata": {},
   "source": [
    "### Qual a média do total das contas?"
   ]
  },
  {
   "cell_type": "code",
   "execution_count": 28,
   "metadata": {
    "tags": []
   },
   "outputs": [
    {
     "name": "stdout",
     "output_type": "stream",
     "text": [
      "Média do total das contas: 19.78594262295082\n"
     ]
    }
   ],
   "source": [
    "media_total_contas = df['total_bill'].mean()\n",
    "print(\"Média do total das contas:\", media_total_contas)"
   ]
  },
  {
   "cell_type": "markdown",
   "metadata": {},
   "source": [
    "### Qual a média das contas por sexo?"
   ]
  },
  {
   "cell_type": "code",
   "execution_count": 29,
   "metadata": {
    "tags": []
   },
   "outputs": [
    {
     "name": "stdout",
     "output_type": "stream",
     "text": [
      "Média das contas por sexo:\n",
      "sex\n",
      "Male      20.744076\n",
      "Female    18.056897\n",
      "Name: total_bill, dtype: float64\n"
     ]
    }
   ],
   "source": [
    "media_contas_por_sexo = df.groupby('sex')['total_bill'].mean()\n",
    "print(\"Média das contas por sexo:\")\n",
    "print(media_contas_por_sexo)"
   ]
  },
  {
   "cell_type": "markdown",
   "metadata": {
    "tags": []
   },
   "source": [
    "### Qual o valor médio das gorjetas por sexo?"
   ]
  },
  {
   "cell_type": "code",
   "execution_count": 30,
   "metadata": {
    "tags": []
   },
   "outputs": [
    {
     "name": "stdout",
     "output_type": "stream",
     "text": [
      "Valor médio das gorjetas por sexo:\n",
      "sex\n",
      "Male      3.089618\n",
      "Female    2.833448\n",
      "Name: tip, dtype: float64\n"
     ]
    }
   ],
   "source": [
    "media_gorjetas_por_sexo = df.groupby('sex')['tip'].mean()\n",
    "print(\"Valor médio das gorjetas por sexo:\")\n",
    "print(media_gorjetas_por_sexo)"
   ]
  }
 ],
 "metadata": {
  "kernelspec": {
   "display_name": "Python 3 (ipykernel)",
   "language": "python",
   "name": "python3"
  },
  "language_info": {
   "codemirror_mode": {
    "name": "ipython",
    "version": 3
   },
   "file_extension": ".py",
   "mimetype": "text/x-python",
   "name": "python",
   "nbconvert_exporter": "python",
   "pygments_lexer": "ipython3",
   "version": "3.10.12"
  },
  "vscode": {
   "interpreter": {
    "hash": "eb3c3305d8b111f0102f4f519c5f17abd113fe74db6752c355e994a9008815ef"
   }
  }
 },
 "nbformat": 4,
 "nbformat_minor": 4
}
